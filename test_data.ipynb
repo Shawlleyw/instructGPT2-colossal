{
 "cells": [
  {
   "cell_type": "code",
   "execution_count": 1,
   "metadata": {},
   "outputs": [],
   "source": [
    "import random\n",
    "import utils\n",
    "\n",
    "data = utils.load_json_data(\"./alpaca_data.json\")\n",
    "\n",
    "size = len(data)\n",
    "\n",
    "# for i in range(5):\n",
    "#     prompt = random.choice(data)\n",
    "#     print(\">>> prompt {}:\\n {}\\n\\n\\n\".format(i, utils.polish_by_prompt(prompt)))\n"
   ]
  },
  {
   "cell_type": "code",
   "execution_count": 2,
   "metadata": {},
   "outputs": [
    {
     "name": "stdout",
     "output_type": "stream",
     "text": [
      "torch.Size([59])\n",
      "torch.Size([65])\n",
      "torch.Size([60])\n",
      "torch.Size([61])\n",
      "torch.Size([51])\n"
     ]
    }
   ],
   "source": [
    "from tokenizer import Tokenizer\n",
    "\n",
    "tokenizer = Tokenizer(\"GPT2\")\n",
    "\n",
    "input_strs = []\n",
    "for i in range(1):\n",
    "    input_dict = random.choice(data)\n",
    "    input_str = utils.polish_by_prompt(input_dict)\n",
    "    print(input_str+input_dict[\"output\"])\n",
    "    input_strs.append(input_str)\n",
    "    # tokenized_seq = tokenizer(input_str)\n",
    "    # print(tokenized_seq.size())\n",
    "    "
   ]
  },
  {
   "cell_type": "code",
   "execution_count": 3,
   "metadata": {},
   "outputs": [
    {
     "name": "stdout",
     "output_type": "stream",
     "text": [
      "torch.Size([65])\n",
      "torch.Size([65])\n",
      "torch.Size([65])\n",
      "torch.Size([65])\n",
      "torch.Size([65])\n"
     ]
    }
   ],
   "source": [
    "tokenized = tokenizer.base_tokenizer(\n",
    "    input_strs,\n",
    "    return_tensors=\"pt\",\n",
    "    padding=\"longest\",\n",
    "    max_length=tokenizer.base_tokenizer.model_max_length,\n",
    "    truncation=True,\n",
    ")\n",
    "for input_ids in tokenized.input_ids:\n",
    "    print(input_ids.size())"
   ]
  },
  {
   "cell_type": "code",
   "execution_count": 11,
   "metadata": {},
   "outputs": [
    {
     "name": "stdout",
     "output_type": "stream",
     "text": [
      "{'input': 'a', 'label': 'b'}\n"
     ]
    }
   ],
   "source": [
    "def test_dict():\n",
    "    return dict(input=\"a\", label=\"b\")\n",
    "\n",
    "x = test_dict()\n",
    "print(x)"
   ]
  }
 ],
 "metadata": {
  "kernelspec": {
   "display_name": "colossal",
   "language": "python",
   "name": "python3"
  },
  "language_info": {
   "codemirror_mode": {
    "name": "ipython",
    "version": 3
   },
   "file_extension": ".py",
   "mimetype": "text/x-python",
   "name": "python",
   "nbconvert_exporter": "python",
   "pygments_lexer": "ipython3",
   "version": "3.7.16"
  },
  "orig_nbformat": 4
 },
 "nbformat": 4,
 "nbformat_minor": 2
}
